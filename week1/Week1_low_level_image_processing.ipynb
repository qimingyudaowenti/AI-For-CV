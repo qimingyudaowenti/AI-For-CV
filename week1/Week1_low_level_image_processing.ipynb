{
 "cells": [
  {
   "cell_type": "code",
   "execution_count": 7,
   "metadata": {},
   "outputs": [],
   "source": [
    "import cv2\n",
    "import random\n",
    "import numpy as np\n",
    "from matplotlib import pyplot as plt\n",
    "\n",
    "%matplotlib inline"
   ]
  },
  {
   "cell_type": "markdown",
   "metadata": {},
   "source": [
    "读取图片，以单通道灰度图格式"
   ]
  },
  {
   "cell_type": "code",
   "execution_count": 12,
   "metadata": {},
   "outputs": [],
   "source": [
    "gray_img = cv2.imread('universe.jpg', 0)\n",
    "cv2.imshow('gray',gray_img)\n",
    "\n",
    "key = cv2.waitKey()\n",
    "if key == 27:\n",
    "    cv2.destroyAllWindows()  # in notebook, must call this."
   ]
  },
  {
   "cell_type": "markdown",
   "metadata": {},
   "source": [
    "显示图片数据的类型，图片大小。  \n",
    "注意灰度图并不显示通道数。"
   ]
  },
  {
   "cell_type": "code",
   "execution_count": 4,
   "metadata": {},
   "outputs": [
    {
     "name": "stdout",
     "output_type": "stream",
     "text": [
      "type: uint8\n",
      "shape: (560, 1024)\n"
     ]
    }
   ],
   "source": [
    "print('type:', gray_img.dtype)\n",
    "print('shape:', gray_img.shape)"
   ]
  },
  {
   "cell_type": "markdown",
   "metadata": {},
   "source": [
    "读取彩色图，裁剪"
   ]
  },
  {
   "cell_type": "code",
   "execution_count": 2,
   "metadata": {
    "collapsed": true
   },
   "outputs": [],
   "source": [
    "img = cv2.imread('universe.jpg')\n",
    "cropped_img = img[0:100, 0:200]\n",
    "cv2.imshow('crop', cropped_img)\n",
    "\n",
    "key = cv2.waitKey()\n",
    "if key == 27:\n",
    "    cv2.destroyAllWindows()  # in notebook, must call this."
   ]
  },
  {
   "cell_type": "markdown",
   "metadata": {},
   "source": [
    "通道分离"
   ]
  },
  {
   "cell_type": "code",
   "execution_count": null,
   "metadata": {
    "collapsed": true
   },
   "outputs": [],
   "source": [
    "B, G, R = cv2.split(img)\n",
    "for i, v in enumerate([B, G, R]):\n",
    "    cv2.imshow(str(i), v)\n",
    "    \n",
    "key = cv2.waitKey()\n",
    "if key == 27:\n",
    "    cv2.destroyAllWindows()  # in notebook, must call this."
   ]
  },
  {
   "cell_type": "markdown",
   "metadata": {},
   "source": [
    "随机改变颜色函数"
   ]
  },
  {
   "cell_type": "code",
   "execution_count": 5,
   "metadata": {
    "collapsed": true
   },
   "outputs": [],
   "source": [
    "def random_light_color(img):\n",
    "    B, G, R = cv2.split(img)\n",
    "    \n",
    "    # brightness\n",
    "    merged = []\n",
    "    for channel_img in [B, G, R]:\n",
    "        threshold = random.randint(-100, 100)\n",
    "        \n",
    "        if threshold == 0:\n",
    "            pass\n",
    "        elif threshold > 0:\n",
    "            lim = 255 - threshold\n",
    "            channel_img[channel_img > lim] = 255\n",
    "            channel_img[channel_img <= lim] += threshold\n",
    "            channel_img.astype(img.dtype)\n",
    "            \n",
    "        merged.append(channel_img)\n",
    "    \n",
    "    img_merged = cv2.merge(merged)\n",
    "    return img_merged"
   ]
  },
  {
   "cell_type": "code",
   "execution_count": 6,
   "metadata": {
    "collapsed": true
   },
   "outputs": [],
   "source": [
    "img = cv2.imread('universe.jpg')\n",
    "img_random_color = random_light_color(img)\n",
    "cv2.imshow('img_random_color', img_random_color)\n",
    "\n",
    "key = cv2.waitKey()\n",
    "if key == 27:\n",
    "    cv2.destroyAllWindows()  # in notebook, must call this."
   ]
  },
  {
   "cell_type": "markdown",
   "metadata": {
    "collapsed": true
   },
   "source": [
    "修改图片的gamma值（gamma校正），可以增强图片亮度.  \n",
    "[【OpenCV3】彩色映射——cv::applyColorMap()与cv::LUT()详解](https://blog.csdn.net/guduruyu/article/details/68925416?utm_source=blogxgwz5)"
   ]
  },
  {
   "cell_type": "code",
   "execution_count": 9,
   "metadata": {},
   "outputs": [],
   "source": [
    "# 两种实现方法效果相同\n",
    "def adjust_gamma1(img, gamma=1.0):\n",
    "    inv_gamma = 1.0/gamma\n",
    "    table = []\n",
    "    for i in range(256):\n",
    "        table.append(((i / 255.0) ** inv_gamma) * 255)\n",
    "    table = np.array(table).astype('uint8')\n",
    "    return cv2.LUT(img, table)\n",
    "\n",
    "def adjust_gamma2(img, gamma=1.0):\n",
    "    img = np.power(img/255.0, 1/gamma)\n",
    "    img = img * 255\n",
    "    img = img.astype('uint8')\n",
    "    \n",
    "    return img\n",
    "\n",
    "img = cv2.imread('universe.jpg')\n",
    "img_brighter1 = adjust_gamma1(img, gamma=2)\n",
    "img_brighter2 = adjust_gamma2(img, gamma=2)\n",
    "\n",
    "cv2.imshow('img', img)\n",
    "cv2.imshow('img_brighter1', img_brighter1)\n",
    "cv2.imshow('img_brighter2', img_brighter2)\n",
    "key = cv2.waitKey()\n",
    "if key == 27:\n",
    "    cv2.destroyAllWindows()  # in notebook, must call this."
   ]
  },
  {
   "cell_type": "markdown",
   "metadata": {},
   "source": [
    "直方图 - histogram"
   ]
  },
  {
   "cell_type": "code",
   "execution_count": 11,
   "metadata": {},
   "outputs": [
    {
     "data": {
      "image/png": "[encoded data removed]",
      "text/plain": [
       "<Figure size 432x288 with 1 Axes>"
      ]
     },
     "metadata": {
      "needs_background": "light"
     },
     "output_type": "display_data"
    },
    {
     "data": {
      "image/png": "[encoded data removed]",
      "text/plain": [
       "<Figure size 432x288 with 1 Axes>"
      ]
     },
     "metadata": {
      "needs_background": "light"
     },
     "output_type": "display_data"
    }
   ],
   "source": [
    "img_brighter_small = cv2.resize(img_brighter1,\n",
    "                  (int(img_brighter1.shape[0]*0.5),\n",
    "                   int(img_brighter1.shape[1]*0.5)))\n",
    "plt.hist(img_brighter_small.flatten(), 256, [0, 256], color='r')\n",
    "plt.show()\n",
    "\n",
    "img_yuv = cv2.cvtColor(img_brighter_small, cv2.COLOR_BGR2YUV)\n",
    "# equalize the histogram of the Y channel\n",
    "img_yuv[:, :, 0] = cv2.equalizeHist(img_yuv[:, :, 0])   # only for 1 channel\n",
    "\n",
    "# convert the YUV image back to RGB format\n",
    "img_output = cv2.cvtColor(img_yuv, cv2.COLOR_YUV2BGR)\n",
    "\n",
    "plt.hist(img_output.flatten(), 256, [0, 256], color='r')\n",
    "plt.show()\n",
    "\n",
    "cv2.imshow('Color input image', img_brighter_small)\n",
    "cv2.imshow('Histogram equalized', img_output)\n",
    "key = cv2.waitKey(0)\n",
    "if key == 27:\n",
    "    cv2.destroyAllWindows()  # in notebook, must call this."
   ]
  },
  {
   "cell_type": "markdown",
   "metadata": {},
   "source": [
    "旋转 - rotation"
   ]
  },
  {
   "cell_type": "code",
   "execution_count": 15,
   "metadata": {},
   "outputs": [
    {
     "name": "stdout",
     "output_type": "stream",
     "text": [
      "[[  0.8660254    0.5        -25.22560734]\n",
      " [ -0.5          0.8660254   82.85675177]]\n"
     ]
    }
   ],
   "source": [
    "img = cv2.imread('universe.jpg')\n",
    "\n",
    "# center, angle, scale\n",
    "M = cv2.getRotationMatrix2D((img.shape[1]/2, img.shape[0]/2), 30, 1)\n",
    "img_rotate = cv2.warpAffine(img, M, (img.shape[1], img.shape[0]))\n",
    "\n",
    "cv2.imshow('origin', img)\n",
    "cv2.imshow('rotated 1', img_rotate)\n",
    "key = cv2.waitKey(0)\n",
    "if key == 27:\n",
    "    cv2.destroyAllWindows()\n",
    "\n",
    "print(M)"
   ]
  },
  {
   "cell_type": "code",
   "execution_count": 16,
   "metadata": {},
   "outputs": [
    {
     "name": "stdout",
     "output_type": "stream",
     "text": [
      "[[ 0.8660254  0.5        0.       ]\n",
      " [-0.5        0.8660254  0.       ]]\n"
     ]
    }
   ],
   "source": [
    "M[0][2] = M[1][2] = 0\n",
    "print(M)\n",
    "img_rotate2 = cv2.warpAffine(img, M, (img.shape[1], img.shape[0]))\n",
    "cv2.imshow('rotated lenna2', img_rotate2)\n",
    "key = cv2.waitKey(0)\n",
    "if key == 27:\n",
    "    cv2.destroyAllWindows()"
   ]
  },
  {
   "cell_type": "code",
   "execution_count": 17,
   "metadata": {},
   "outputs": [
    {
     "name": "stdout",
     "output_type": "stream",
     "text": [
      "[[ 0.4330127   0.25       58.38719633]\n",
      " [-0.25        0.4330127  85.67837588]]\n"
     ]
    }
   ],
   "source": [
    "# scale+rotation+translation = similarity transform\n",
    "M = cv2.getRotationMatrix2D(\n",
    "    (img.shape[1] / 2, img.shape[0] / 2), 30, 0.5)  # center, angle, scale\n",
    "img_rotate = cv2.warpAffine(img, M, (img.shape[1], img.shape[0]))\n",
    "cv2.imshow('rotated lenna', img_rotate)\n",
    "key = cv2.waitKey(0)\n",
    "if key == 27:\n",
    "    cv2.destroyAllWindows()\n",
    "\n",
    "print(M)"
   ]
  }
 ],
 "metadata": {
  "kernelspec": {
   "display_name": "Python 3",
   "language": "python",
   "name": "python3"
  },
  "language_info": {
   "codemirror_mode": {
    "name": "ipython",
    "version": 3
   },
   "file_extension": ".py",
   "mimetype": "text/x-python",
   "name": "python",
   "nbconvert_exporter": "python",
   "pygments_lexer": "ipython3",
   "version": "3.6.7"
  }
 },
 "nbformat": 4,
 "nbformat_minor": 2
}
