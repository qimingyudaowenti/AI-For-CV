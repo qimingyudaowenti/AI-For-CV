{
 "cells": [
  {
   "cell_type": "code",
   "execution_count": 1,
   "metadata": {
    "collapsed": true
   },
   "outputs": [],
   "source": [
    "import cv2\n",
    "import random\n",
    "import numpy as np\n",
    "from matplotlib import pyplot as plt"
   ]
  },
  {
   "cell_type": "markdown",
   "metadata": {},
   "source": [
    "读取图片，以单通道灰度图格式"
   ]
  },
  {
   "cell_type": "code",
   "execution_count": 2,
   "metadata": {
    "collapsed": true
   },
   "outputs": [],
   "source": [
    "gray_img = cv2.imread('universe.jpg', 0)\n",
    "cv2.imshow('gray',gray_img)\n",
    "\n",
    "key = cv2.waitKey()\n",
    "if key == 27:\n",
    "    cv2.destroyAllWindows()  # in notebook, must call this."
   ]
  },
  {
   "cell_type": "markdown",
   "metadata": {},
   "source": [
    "显示图片数据的类型，图片大小。  \n",
    "注意灰度图并不显示通道数。"
   ]
  },
  {
   "cell_type": "code",
   "execution_count": 4,
   "metadata": {},
   "outputs": [
    {
     "name": "stdout",
     "output_type": "stream",
     "text": [
      "type: uint8\n",
      "shape: (560, 1024)\n"
     ]
    }
   ],
   "source": [
    "print('type:', gray_img.dtype)\n",
    "print('shape:', gray_img.shape)"
   ]
  },
  {
   "cell_type": "markdown",
   "metadata": {},
   "source": [
    "读取彩色图，裁剪"
   ]
  },
  {
   "cell_type": "code",
   "execution_count": 2,
   "metadata": {
    "collapsed": true
   },
   "outputs": [],
   "source": [
    "img = cv2.imread('universe.jpg')\n",
    "cropped_img = img[0:100, 0:200]\n",
    "cv2.imshow('crop', cropped_img)\n",
    "\n",
    "key = cv2.waitKey()\n",
    "if key == 27:\n",
    "    cv2.destroyAllWindows()  # in notebook, must call this."
   ]
  },
  {
   "cell_type": "markdown",
   "metadata": {},
   "source": [
    "通道分离"
   ]
  },
  {
   "cell_type": "code",
   "execution_count": null,
   "metadata": {
    "collapsed": true
   },
   "outputs": [],
   "source": [
    "B, G, R = cv2.split(img)\n",
    "for i, v in enumerate([B, G, R]):\n",
    "    cv2.imshow(str(i), v)\n",
    "    \n",
    "key = cv2.waitKey()\n",
    "if key == 27:\n",
    "    cv2.destroyAllWindows()  # in notebook, must call this."
   ]
  },
  {
   "cell_type": "markdown",
   "metadata": {},
   "source": [
    "随机改变颜色函数"
   ]
  },
  {
   "cell_type": "code",
   "execution_count": 5,
   "metadata": {
    "collapsed": true
   },
   "outputs": [],
   "source": [
    "def random_light_color(img):\n",
    "    B, G, R = cv2.split(img)\n",
    "    \n",
    "    # brightness\n",
    "    merged = []\n",
    "    for channel_img in [B, G, R]:\n",
    "        threshold = random.randint(-100, 100)\n",
    "        \n",
    "        if threshold == 0:\n",
    "            pass\n",
    "        elif threshold > 0:\n",
    "            lim = 255 - threshold\n",
    "            channel_img[channel_img > lim] = 255\n",
    "            channel_img[channel_img <= lim] += threshold\n",
    "            channel_img.astype(img.dtype)\n",
    "            \n",
    "        merged.append(channel_img)\n",
    "    \n",
    "    img_merged = cv2.merge(merged)\n",
    "    return img_merged"
   ]
  },
  {
   "cell_type": "code",
   "execution_count": 6,
   "metadata": {
    "collapsed": true
   },
   "outputs": [],
   "source": [
    "img = cv2.imread('universe.jpg')\n",
    "img_random_color = random_light_color(img)\n",
    "cv2.imshow('img_random_color', img_random_color)\n",
    "\n",
    "key = cv2.waitKey()\n",
    "if key == 27:\n",
    "    cv2.destroyAllWindows()  # in notebook, must call this."
   ]
  },
  {
   "cell_type": "markdown",
   "metadata": {
    "collapsed": true
   },
   "source": [
    "修改图片的gamma值（gamma校正），可以增强图片亮度.  \n",
    "[【OpenCV3】彩色映射——cv::applyColorMap()与cv::LUT()详解](https://blog.csdn.net/guduruyu/article/details/68925416?utm_source=blogxgwz5)"
   ]
  },
  {
   "cell_type": "code",
   "execution_count": 6,
   "metadata": {},
   "outputs": [],
   "source": [
    "# 两种实现方法效果相同\n",
    "def adjust_gamma1(img, gamma=1.0):\n",
    "    inv_gamma = 1.0/gamma\n",
    "    table = []\n",
    "    for i in range(256):\n",
    "        table.append(((i / 255.0) ** inv_gamma) * 255)\n",
    "    table = np.array(table).astype('uint8')\n",
    "    return cv2.LUT(img, table)\n",
    "\n",
    "def adjust_gamma2(img, gamma=1.0):\n",
    "    img = np.power(img/255.0, 1/gamma)\n",
    "    img = img * 255\n",
    "    img = img.astype('uint8')\n",
    "    \n",
    "    return img\n",
    "\n",
    "img = cv2.imread('universe.jpg')\n",
    "img_brighter1 = adjust_gamma1(img, gamma=2)\n",
    "img_brighter2 = adjust_gamma2(img, gamma=2)\n",
    "\n",
    "cv2.imshow('img', img)\n",
    "cv2.imshow('img_brighter1', img_brighter1)\n",
    "cv2.imshow('img_brighter2', img_brighter2)\n",
    "key = cv2.waitKey()\n",
    "if key == 27:\n",
    "    cv2.destroyAllWindows()  # in notebook, must call this."
   ]
  }
 ],
 "metadata": {
  "kernelspec": {
   "display_name": "Python 3",
   "language": "python",
   "name": "python3"
  },
  "language_info": {
   "codemirror_mode": {
    "name": "ipython",
    "version": 3
   },
   "file_extension": ".py",
   "mimetype": "text/x-python",
   "name": "python",
   "nbconvert_exporter": "python",
   "pygments_lexer": "ipython3",
   "version": "3.6.7"
  }
 },
 "nbformat": 4,
 "nbformat_minor": 2
}
